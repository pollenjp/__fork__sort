{
 "cells": [
  {
   "cell_type": "markdown",
   "metadata": {
    "toc": true
   },
   "source": [
    "<h1>Run<span class=\"tocSkip\"></span></h1>\n",
    "<div class=\"toc\"><ul class=\"toc-item\"><li><span><a href=\"#Config\" data-toc-modified-id=\"Config-1\"><span class=\"toc-item-num\">1&nbsp;&nbsp;</span>Config</a></span><ul class=\"toc-item\"><li><span><a href=\"#import\" data-toc-modified-id=\"import-1.1\"><span class=\"toc-item-num\">1.1&nbsp;&nbsp;</span>import</a></span></li><li><span><a href=\"#Path\" data-toc-modified-id=\"Path-1.2\"><span class=\"toc-item-num\">1.2&nbsp;&nbsp;</span>Path</a></span></li><li><span><a href=\"#sys.path\" data-toc-modified-id=\"sys.path-1.3\"><span class=\"toc-item-num\">1.3&nbsp;&nbsp;</span>sys.path</a></span></li></ul></li><li><span><a href=\"#Check\" data-toc-modified-id=\"Check-2\"><span class=\"toc-item-num\">2&nbsp;&nbsp;</span>Check</a></span></li><li><span><a href=\"#END\" data-toc-modified-id=\"END-3\"><span class=\"toc-item-num\">3&nbsp;&nbsp;</span>END</a></span></li></ul></div>"
   ]
  },
  {
   "cell_type": "markdown",
   "metadata": {},
   "source": [
    "## Config"
   ]
  },
  {
   "cell_type": "markdown",
   "metadata": {},
   "source": [
    "### import"
   ]
  },
  {
   "cell_type": "code",
   "execution_count": 1,
   "metadata": {
    "ExecuteTime": {
     "end_time": "2019-03-31T20:44:17.876455Z",
     "start_time": "2019-03-31T20:44:17.874433Z"
    }
   },
   "outputs": [],
   "source": [
    "import os\n",
    "import sys\n",
    "import pathlib\n",
    "import time\n",
    "\n",
    "import numpy as np"
   ]
  },
  {
   "cell_type": "markdown",
   "metadata": {},
   "source": [
    "### Path"
   ]
  },
  {
   "cell_type": "code",
   "execution_count": 2,
   "metadata": {
    "ExecuteTime": {
     "end_time": "2019-03-31T20:44:17.924160Z",
     "start_time": "2019-03-31T20:44:17.920639Z"
    }
   },
   "outputs": [
    {
     "name": "stdout",
     "output_type": "stream",
     "text": [
      "/media/pollenjp/DATA2TB/workdir/git/__fork__sort\n"
     ]
    }
   ],
   "source": [
    "ROOT_Path = pathlib.Path(os.getcwd()).parents[0]\n",
    "_Path = ROOT_Path\n",
    "assert _Path.exists(), \"Not exists. : {}\".format(str(_Path))\n",
    "print(_Path)"
   ]
  },
  {
   "cell_type": "code",
   "execution_count": 3,
   "metadata": {
    "ExecuteTime": {
     "end_time": "2019-03-31T20:44:17.935687Z",
     "start_time": "2019-03-31T20:44:17.925677Z"
    }
   },
   "outputs": [
    {
     "name": "stdout",
     "output_type": "stream",
     "text": [
      "/media/pollenjp/DATA2TB/workdir/git/__fork__sort/data/raw/MOT16/train\n"
     ]
    }
   ],
   "source": [
    "train_Path = ROOT_Path / \"data\" / \"raw\" / \"MOT16\" / \"train\"\n",
    "_Path = train_Path\n",
    "assert _Path.exists(), \"Not exists. : {}\".format(str(_Path))\n",
    "print(_Path)"
   ]
  },
  {
   "cell_type": "markdown",
   "metadata": {},
   "source": [
    "### sys.path"
   ]
  },
  {
   "cell_type": "code",
   "execution_count": 4,
   "metadata": {
    "ExecuteTime": {
     "end_time": "2019-03-31T20:44:17.971009Z",
     "start_time": "2019-03-31T20:44:17.969004Z"
    }
   },
   "outputs": [],
   "source": [
    "sys.path.append(str(ROOT_Path))"
   ]
  },
  {
   "cell_type": "code",
   "execution_count": 5,
   "metadata": {
    "ExecuteTime": {
     "end_time": "2019-03-31T20:44:18.576392Z",
     "start_time": "2019-03-31T20:44:17.972720Z"
    }
   },
   "outputs": [],
   "source": [
    "import sort"
   ]
  },
  {
   "cell_type": "markdown",
   "metadata": {},
   "source": [
    "## Check"
   ]
  },
  {
   "cell_type": "code",
   "execution_count": 6,
   "metadata": {
    "ExecuteTime": {
     "end_time": "2019-03-31T20:44:18.580461Z",
     "start_time": "2019-03-31T20:44:18.578318Z"
    }
   },
   "outputs": [],
   "source": [
    "display = True\n",
    "total_time = 0.0\n",
    "total_frames = 0\n",
    "#used only for display\n",
    "colours = np.random.rand(32,3)"
   ]
  },
  {
   "cell_type": "code",
   "execution_count": 7,
   "metadata": {
    "ExecuteTime": {
     "end_time": "2019-03-31T20:44:18.591551Z",
     "start_time": "2019-03-31T20:44:18.582770Z"
    }
   },
   "outputs": [],
   "source": [
    "mot_tracker = sort.Sort()"
   ]
  },
  {
   "cell_type": "code",
   "execution_count": 8,
   "metadata": {
    "ExecuteTime": {
     "end_time": "2019-03-31T20:44:18.602930Z",
     "start_time": "2019-03-31T20:44:18.592795Z"
    }
   },
   "outputs": [
    {
     "name": "stdout",
     "output_type": "stream",
     "text": [
      "/media/pollenjp/DATA2TB/workdir/git/__fork__sort/data/raw/MOT16/train/MOT16-02/det/det.txt\n"
     ]
    }
   ],
   "source": [
    "det_filePath = train_Path / \"MOT16-02\" / \"det\" / \"det.txt\"\n",
    "_Path = det_filePath\n",
    "assert _Path.exists(), \"Not exists. : {}\".format(str(_Path))\n",
    "print(_Path)"
   ]
  },
  {
   "cell_type": "code",
   "execution_count": 9,
   "metadata": {
    "ExecuteTime": {
     "end_time": "2019-03-31T20:44:18.621516Z",
     "start_time": "2019-03-31T20:44:18.604533Z"
    }
   },
   "outputs": [],
   "source": [
    "det_list = []\n",
    "with open(file=str(det_filePath), mode='rt') as f:\n",
    "    while True:\n",
    "        line = f.readline()\n",
    "        if len(line) == 0:\n",
    "            break\n",
    "        line = line.rstrip()\n",
    "        det_list.append(line.split(\",\"))"
   ]
  },
  {
   "cell_type": "code",
   "execution_count": 10,
   "metadata": {
    "ExecuteTime": {
     "end_time": "2019-03-31T20:44:18.643464Z",
     "start_time": "2019-03-31T20:44:18.623057Z"
    },
    "scrolled": false
   },
   "outputs": [
    {
     "data": {
      "text/plain": [
       "(7267, 10)"
      ]
     },
     "execution_count": 10,
     "metadata": {},
     "output_type": "execute_result"
    }
   ],
   "source": [
    "seq_dets = np.array(det_list, dtype=np.float32)\n",
    "seq_dets.shape"
   ]
  },
  {
   "cell_type": "code",
   "execution_count": 11,
   "metadata": {
    "ExecuteTime": {
     "end_time": "2019-03-31T20:44:18.825701Z",
     "start_time": "2019-03-31T20:44:18.647284Z"
    }
   },
   "outputs": [
    {
     "name": "stdout",
     "output_type": "stream",
     "text": [
      "(12, 5)\n",
      "frame| id  | xmin   | ymin   | w      | h      \n",
      "    1| 12.0| 1017.00|  425.00|   39.00| 119.00| 1| -1| -1| -1|\n",
      "    1| 11.0|  543.19|  442.10|   44.95| 136.84| 1| -1| -1| -1|\n",
      "    1| 10.0| 1097.00|  433.00|   39.00| 119.00| 1| -1| -1| -1|\n",
      "    1|  9.0|  552.72|  473.90|   29.31|  89.94| 1| -1| -1| -1|\n",
      "    1|  8.0| 1480.30|  413.27|  120.26| 362.77| 1| -1| -1| -1|\n",
      "    1|  7.0| 1301.10|  237.38|  195.98| 589.95| 1| -1| -1| -1|\n",
      "    1|  6.0| 1254.60|  446.72|   33.82| 103.47| 1| -1| -1| -1|\n",
      "    1|  5.0|  454.06|  434.36|   97.49| 294.47| 1| -1| -1| -1|\n",
      "    1|  4.0|  721.23|  446.86|   41.87| 127.61| 1| -1| -1| -1|\n",
      "    1|  3.0|  650.80|  455.86|   63.98| 193.94| 1| -1| -1| -1|\n",
      "    1|  2.0|  571.03|  402.13|  104.56| 315.68| 1| -1| -1| -1|\n",
      "    1|  1.0| 1359.10|  413.27|  120.26| 362.77| 1| -1| -1| -1|\n",
      "(14, 5)\n",
      "frame| id  | xmin   | ymin   | w      | h      \n",
      "    2| 14.0|  935.59|  429.71|   41.87| 127.61| 1| -1| -1| -1|\n",
      "    2| 13.0|  572.83|  364.89|  128.96| 388.88| 1| -1| -1| -1|\n",
      "    2| 12.0| 1021.18|  436.40|   31.53|  96.40| 1| -1| -1| -1|\n",
      "    2| 11.0|  544.99|  457.02|   39.03| 118.96| 1| -1| -1| -1|\n",
      "    2| 10.0| 1097.00|  433.00|   39.00| 119.00| 1| -1| -1| -1|\n",
      "    2|  9.0|  549.70|  476.19|   27.30|  83.83| 1| -1| -1| -1|\n",
      "    2|  8.0| 1494.39|  408.30|  112.16| 338.40| 1| -1| -1| -1|\n",
      "    2|  7.0| 1324.29|  258.31|  182.81| 550.39| 1| -1| -1| -1|\n",
      "    2|  6.0| 1254.60|  446.72|   33.82| 103.47| 1| -1| -1| -1|\n",
      "    2|  5.0|  460.47|  442.11|   90.91| 274.68| 1| -1| -1| -1|\n",
      "    2|  4.0|  728.99|  457.01|   39.01| 118.98| 1| -1| -1| -1|\n",
      "    2|  3.0|  643.65|  461.79|   59.64| 180.87| 1| -1| -1| -1|\n",
      "    2|  2.0|  584.01|  446.87|   84.79| 256.21| 1| -1| -1| -1|\n",
      "    2|  1.0| 1359.10|  413.27|  120.26| 362.77| 1| -1| -1| -1|\n",
      "(14, 5)\n",
      "frame| id  | xmin   | ymin   | w      | h      \n",
      "    3| 17.0| 1352.60|   52.98|  258.92| 778.76| 1| -1| -1| -1|\n",
      "    3| 16.0|  940.04|  436.58|   27.28|  83.85| 1| -1| -1| -1|\n",
      "    3| 15.0|  657.86|  419.00|   73.64| 222.93| 1| -1| -1| -1|\n",
      "    3| 14.0|  936.99|  433.01|   39.01| 118.98| 1| -1| -1| -1|\n",
      "    3| 13.0|  571.00|  402.13|  104.62| 315.67| 1| -1| -1| -1|\n",
      "    3| 12.0| 1021.90|  438.50|   30.14|  92.23| 1| -1| -1| -1|\n",
      "    3| 11.0|  545.44|  458.95|   37.98| 115.80| 1| -1| -1| -1|\n",
      "    3| 10.0| 1098.56|  430.31|   41.41| 126.29| 1| -1| -1| -1|\n",
      "    3|  8.0| 1485.19|  395.05|  125.17| 377.59| 1| -1| -1| -1|\n",
      "    3|  7.0| 1374.76|  377.37|  160.62| 483.69| 1| -1| -1| -1|\n",
      "    3|  6.0| 1254.60|  446.72|   33.82| 103.47| 1| -1| -1| -1|\n",
      "    3|  5.0|  455.47|  455.76|   95.41| 288.24| 1| -1| -1| -1|\n",
      "    3|  4.0|  729.61|  450.55|   38.53| 117.52| 1| -1| -1| -1|\n",
      "    3|  1.0| 1359.10|  413.27|  120.26| 362.77| 1| -1| -1| -1|\n",
      "(13, 5)\n",
      "frame| id  | xmin   | ymin   | w      | h      \n",
      "    4| 12.0| 1018.78|  430.08|   35.61| 108.88| 1| -1| -1| -1|\n",
      "    4| 10.0| 1098.69|  429.40|   42.13| 128.45| 1| -1| -1| -1|\n",
      "    4|  8.0| 1480.03|  407.85|  122.96| 370.90| 1| -1| -1| -1|\n",
      "    4|  6.0| 1254.60|  446.72|   33.82| 103.47| 1| -1| -1| -1|\n",
      "    4|  5.0|  459.14|  445.74|   92.22| 278.62| 1| -1| -1| -1|\n",
      "    4|  4.0|  730.42|  447.94|   40.53| 123.59| 1| -1| -1| -1|\n",
      "    4|  1.0| 1379.60|  413.27|  120.26| 362.77| 1| -1| -1| -1|\n",
      "(13, 5)\n",
      "frame| id  | xmin   | ymin   | w      | h      \n",
      "    5| 12.0| 1017.62|  426.84|   37.74| 115.32| 1| -1| -1| -1|\n",
      "    5| 10.0| 1098.61|  429.05|   42.37| 129.19| 1| -1| -1| -1|\n",
      "    5|  8.0| 1478.98|  411.78|  121.89| 367.70| 1| -1| -1| -1|\n",
      "    5|  6.0| 1254.60|  446.72|   33.82| 103.47| 1| -1| -1| -1|\n",
      "    5|  5.0|  460.40|  443.45|   90.88| 274.59| 1| -1| -1| -1|\n",
      "    5|  4.0|  730.41|  446.94|   41.37| 126.12| 1| -1| -1| -1|\n",
      "    5|  1.0| 1384.79|  413.27|  120.26| 362.77| 1| -1| -1| -1|\n"
     ]
    }
   ],
   "source": [
    "#frame_length = int(seq_dets[:,0].max())\n",
    "frame_length = 5\n",
    "for frame in range(frame_length):\n",
    "    frame += 1\n",
    "    frame_mask = seq_dets[:,0]==frame\n",
    "    dets = seq_dets[frame_mask, 2:7]\n",
    "    print(dets.shape)\n",
    "\n",
    "    #convert to [x1,y1,w,h] to [x1,y1,x2,y2]\n",
    "    dets[:,2:4] += dets[:,0:2]\n",
    "    total_frames += 1\n",
    "\n",
    "    start_time = time.time()\n",
    "    trackers = mot_tracker.update(dets)\n",
    "    cycle_time = time.time() - start_time\n",
    "    total_time += cycle_time\n",
    "    \n",
    "    print((\"{frame:<5s}| {id:<4s}| {xmin:<7s}| {ymin:<7s}| {w:<7}| {h:<7s}\") \\\n",
    "          .format(frame=\"frame\",id=\"id\",xmin=\"xmin\",ymin=\"ymin\", w=\"w\", h=\"h\"))\n",
    "    for d in trackers:\n",
    "        print((\"{frame:>5}| {id:>4}| {xmin:>7.2f}| {ymin:>7.2f}| {w:>7.2f}|\" \\\n",
    "              +\"{h:>7.2f}| 1| -1| -1| -1|\") \\\n",
    "              .format(frame=frame,id=d[4],xmin=d[0],ymin=d[1], w=d[2]-d[0],\n",
    "                      h=d[3]-d[1]))"
   ]
  },
  {
   "cell_type": "markdown",
   "metadata": {},
   "source": [
    "## END"
   ]
  },
  {
   "cell_type": "code",
   "execution_count": null,
   "metadata": {},
   "outputs": [],
   "source": []
  }
 ],
 "metadata": {
  "kernelspec": {
   "display_name": "Python 3",
   "language": "python",
   "name": "python3"
  },
  "language_info": {
   "codemirror_mode": {
    "name": "ipython",
    "version": 3
   },
   "file_extension": ".py",
   "mimetype": "text/x-python",
   "name": "python",
   "nbconvert_exporter": "python",
   "pygments_lexer": "ipython3",
   "version": "3.5.2"
  },
  "latex_envs": {
   "LaTeX_envs_menu_present": true,
   "autoclose": false,
   "autocomplete": false,
   "bibliofile": "biblio.bib",
   "cite_by": "apalike",
   "current_citInitial": 1,
   "eqLabelWithNumbers": true,
   "eqNumInitial": 1,
   "hotkeys": {
    "equation": "Ctrl-E",
    "itemize": "Ctrl-I"
   },
   "labels_anchors": false,
   "latex_user_defs": false,
   "report_style_numbering": false,
   "user_envs_cfg": false
  },
  "toc": {
   "base_numbering": 1,
   "nav_menu": {},
   "number_sections": true,
   "sideBar": true,
   "skip_h1_title": true,
   "title_cell": "Run",
   "title_sidebar": "Run",
   "toc_cell": true,
   "toc_position": {
    "height": "calc(100% - 180px)",
    "left": "10px",
    "top": "150px",
    "width": "357.188px"
   },
   "toc_section_display": true,
   "toc_window_display": true
  },
  "varInspector": {
   "cols": {
    "lenName": 16,
    "lenType": 16,
    "lenVar": "200"
   },
   "kernels_config": {
    "python": {
     "delete_cmd_postfix": "",
     "delete_cmd_prefix": "del ",
     "library": "var_list.py",
     "varRefreshCmd": "print(var_dic_list())"
    },
    "r": {
     "delete_cmd_postfix": ") ",
     "delete_cmd_prefix": "rm(",
     "library": "var_list.r",
     "varRefreshCmd": "cat(var_dic_list()) "
    }
   },
   "types_to_exclude": [
    "module",
    "function",
    "builtin_function_or_method",
    "instance",
    "_Feature"
   ],
   "window_display": false
  }
 },
 "nbformat": 4,
 "nbformat_minor": 2
}
